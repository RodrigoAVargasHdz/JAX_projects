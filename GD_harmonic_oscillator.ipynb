{
  "nbformat": 4,
  "nbformat_minor": 0,
  "metadata": {
    "colab": {
      "name": "Untitled0.ipynb",
      "provenance": [],
      "collapsed_sections": [],
      "authorship_tag": "ABX9TyOKVAmtnmItob94FeFx/mrq",
      "include_colab_link": true
    },
    "kernelspec": {
      "name": "python3",
      "display_name": "Python 3"
    },
    "language_info": {
      "name": "python"
    }
  },
  "cells": [
    {
      "cell_type": "markdown",
      "metadata": {
        "id": "view-in-github",
        "colab_type": "text"
      },
      "source": [
        "<a href=\"https://colab.research.google.com/github/RodrigoAVargasHdz/JAX_projects/blob/main/GD_harmonic_oscillator.ipynb\" target=\"_parent\"><img src=\"https://colab.research.google.com/assets/colab-badge.svg\" alt=\"Open In Colab\"/></a>"
      ]
    },
    {
      "cell_type": "code",
      "metadata": {
        "id": "_jyFNwC1khHH"
      },
      "source": [
        "pip install --upgrade jax jaxlib"
      ],
      "execution_count": null,
      "outputs": []
    },
    {
      "cell_type": "code",
      "metadata": {
        "id": "7dI0-BlVk-qS"
      },
      "source": [
        "import jax.numpy as jnp\n",
        "import jax\n",
        "from jax import grad, value_and_grad\n",
        "from jax import vmap\n",
        "from jax import random\n",
        "from jax.experimental import stax\n",
        "from jax.experimental import optimizers\n",
        "\n",
        "import matplotlib.pyplot as plt\n"
      ],
      "execution_count": 17,
      "outputs": []
    },
    {
      "cell_type": "markdown",
      "metadata": {
        "id": "Rzd8oCbXlCAA"
      },
      "source": [
        "**Kinetic energy in the DVR basis**"
      ]
    },
    {
      "cell_type": "code",
      "metadata": {
        "id": "Q4uT6M7ilFcH"
      },
      "source": [
        "def kinetic_energy_jax(dx,m):\n",
        "\t'''\n",
        "\tdx --> delta x in the grid for position\n",
        "\tm --> size of the grid\n",
        "\t'''\n",
        "\tk = jnp.pi/dx\n",
        "\tk2 = k**2\n",
        "\tdef jax_tri(m):\n",
        "\t\tM = jnp.zeros((m,m))\n",
        "\t\tfor i in range(-m+1,m):\n",
        "\t\t\tM += i*jnp.eye(m, k=i)\n",
        "\t\treturn M\n",
        "\n",
        "\ttt = jax_tri(m)\n",
        "\n",
        "\ttt_dn = tt + 1.E-5*jnp.eye(m)\n",
        "# \toff_diag = jnp.divide(jnp.power(-1,tt),jnp.power(tt_dn,2))\n",
        "\toff_diag = jnp.divide(jnp.power(-1.*jnp.ones(tt.shape),tt),jnp.power(tt_dn,2))\n",
        "\toff_diag = (2.*k2/jnp.pi**2) * jnp.multiply((jnp.ones(m) - jnp.eye(m)),off_diag)\n",
        "\n",
        "\tT = (k2/3.) * jnp.eye(m) + off_diag\n",
        "\treturn T/2."
      ],
      "execution_count": 4,
      "outputs": []
    },
    {
      "cell_type": "markdown",
      "metadata": {
        "id": "oe21XcUylOlb"
      },
      "source": [
        "**Potential energy function**"
      ]
    },
    {
      "cell_type": "code",
      "metadata": {
        "id": "BIrt9cl_lL-E"
      },
      "source": [
        "# Harmonic oscilator\n",
        "def pes_function_ho(param, x):\n",
        "\t\tm = 1.0\n",
        "\t\tw = m*jnp.sqrt(param/m)/2.\n",
        "\t\tv = w * x**2\n",
        "\t\treturn v"
      ],
      "execution_count": 5,
      "outputs": []
    },
    {
      "cell_type": "markdown",
      "metadata": {
        "id": "pCo2KE5XlXLl"
      },
      "source": [
        "**Target spectrum**\n"
      ]
    },
    {
      "cell_type": "code",
      "metadata": {
        "id": "8xeHQLRllb5c"
      },
      "source": [
        "nx = 250\n",
        "x = jnp.linspace(-25.,25.,nx)\n",
        "\n",
        "T = kinetic_energy_jax(x[1] - x[0],nx) # Kinetic energy\n",
        "v_vect_ho = vmap(pes_function_ho,(None,0)) # Potential energy (vmap function)\n",
        "\n",
        "# HO freq (omega)\n",
        "w = jnp.ones(1)\n",
        "\n",
        "v = v_vect_ho(w,x) # Potential energy (vector)\n",
        "V = jnp.diag(v[:,0]) # Potential energy (Matrix)\n",
        "\n",
        "# Target Hamiltonian\n",
        "H0 = T + V \n",
        "# Diagonalization\n",
        "e0,ev0 = jnp.linalg.eigh(H0)"
      ],
      "execution_count": null,
      "outputs": []
    },
    {
      "cell_type": "code",
      "metadata": {
        "id": "EyfkV-Q8mIiW"
      },
      "source": [
        "plt.plot(jnp.arange(e0.shape[0]),e0)\n",
        "plt.xlabel('Eigen energy [n]')\n",
        "plt.ylabel('Energy')"
      ],
      "execution_count": null,
      "outputs": []
    },
    {
      "cell_type": "markdown",
      "metadata": {
        "id": "hTZspYMpmjsK"
      },
      "source": [
        "**Optimization**\n",
        "\n",
        "Let's optimize $\\omega$ with respect to some target spectrum.\n",
        "\n",
        "\\begin{equation}\n",
        "\\omega^* = \\arg\\min_{\\omega} \\;\\; {\\cal L}\n",
        "\\end{equation}\n",
        "\n",
        "Error function,\n",
        "\n",
        "\\begin{equation}\n",
        "{\\cal L} (\\omega) = \\sum_i^N \\Big ( \\epsilon_i(\\omega) - \\hat{\\epsilon}_i\\Big )^{2}\n",
        "\\end{equation}\n",
        "\n"
      ]
    },
    {
      "cell_type": "markdown",
      "metadata": {
        "id": "kwXb1Gzwnx9N"
      },
      "source": [
        "**Gradient descent (GD)**\n",
        "\n",
        "Quick recap of GD,\n",
        "\n",
        "\\begin{equation}\n",
        "\\omega_{t} = \\omega_{t-1} - \\eta \\frac{\\partial {\\cal L} }{\\partial \\omega} \n",
        "\\end{equation}\n",
        "\n",
        "How do we compute $\\frac{\\partial {\\cal L} }{\\partial \\omega} $?\n",
        "1. Finite difference\n",
        "2. Close form (only for some systems)\n",
        "3. Automatic differentiation"
      ]
    },
    {
      "cell_type": "code",
      "metadata": {
        "id": "zn68JF4Onwsl"
      },
      "source": [
        "\tdef loss(w):\n",
        "\t\tv = fnn_vect(w,x)\n",
        "\t\tV = jnp.diag(v[:,0])\n",
        "\t\tH = T + V\n",
        "\t\te,_ = jnp.linalg.eigh(H)\n",
        "\t\tj0 = 50 #only the first j0 eigestates\n",
        "# \t\tz = jnp.sum((e - e0)**2)\n",
        "\t\tz = (jnp.mean(jnp.diff(e[:j0])) - 1.)**2\t\n",
        "\t\treturn z\n",
        "\n"
      ],
      "execution_count": 21,
      "outputs": []
    },
    {
      "cell_type": "code",
      "metadata": {
        "id": "iTcqCctCmjVp"
      },
      "source": [
        "fnn_vect = vmap(pes_function_ho,(None,0)) # vectorize function\n",
        " \n",
        " #\tOptimization\t\n",
        "m = 1 #NN (m=31 HO)\n",
        "key = random.PRNGKey(0)\n",
        "w0 = random.uniform(key, shape=(m,))*3\n",
        "\n",
        "print('Initial random omega = {}'.format(w0))\n",
        "\n",
        "#learning_rate\n",
        "lr = 0.1 \n",
        "\n",
        "for itr in range(100):\n",
        "    val_loss, grad = value_and_grad(loss)(w0)\n",
        "    w0 = w0 - lr * grad\n",
        "    print(itr,val_loss,w0)\n",
        "    \n",
        "    vt = fnn_vect(w0,x)\n",
        "    Vt = jnp.diag(vt[:,0])\n",
        "    Ht = T + Vt\n",
        "    et,evt = jnp.linalg.eigh(Ht)\n",
        "\n",
        "\n",
        "\n",
        "    plt.clf()\n",
        "    plt.subplot(1, 2, 1)\n",
        "    plt.plot(e0,label = 'exact')\n",
        "    plt.plot(et, label = 'model')\n",
        "    plt.plot(jnp.arange(nx)+0.5, color='red', ls = '--')\n",
        "    plt.axvline(50,color='k', ls = '--')\n",
        "    plt.legend()\n",
        "    \n",
        "    plt.subplot(1,2,2)\n",
        "    plt.text(-5,10, r'$\\kappa$ = {0:.3f}'.format(w[0]))\n",
        "    plt.plot(x,vt,label='ho')\n",
        "    plt.plot(x,v,label='model')\n",
        "    plt.legend()#loc=4\n",
        "\n",
        "    plt.draw()\n",
        "    plt.pause(0.1)\n",
        "\n"
      ],
      "execution_count": null,
      "outputs": []
    }
  ]
}